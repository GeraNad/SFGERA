{
 "cells": [
  {
   "cell_type": "code",
   "execution_count": 2,
   "metadata": {},
   "outputs": [
    {
     "name": "stdout",
     "output_type": "stream",
     "text": [
      "Ваш алгоритм угадывает число в среднем за 5 попыток\n"
     ]
    },
    {
     "data": {
      "text/plain": [
       "5"
      ]
     },
     "execution_count": 2,
     "metadata": {},
     "output_type": "execute_result"
    }
   ],
   "source": [
    "import numpy as np\n",
    "def score_game(game_core):\n",
    "    '''Запускаем игру 1000 раз, чтобы узнать, как быстро игра угадывает число'''\n",
    "    count_ls = []\n",
    "    np.random.seed(1)  # фиксируем RANDOM SEED, чтобы ваш эксперимент был воспроизводим!\n",
    "    random_array = np.random.randint(1,101, size=(1000))\n",
    "    for number in random_array:\n",
    "        count_ls.append(game_core(number))\n",
    "    score = int(np.mean(count_ls))\n",
    "    print(f\"Ваш алгоритм угадывает число в среднем за {score} попыток\")\n",
    "    return score\n",
    "def random_predict(number:int=1) -> int:\n",
    "    count = 1\n",
    "    predict = 50 #половина от 100\n",
    "    my_step = 2 # планирую делить дипазон, где находится угадываемое число, пополам\n",
    "    while number != predict:\n",
    "        count+=1\n",
    "        if my_step>=51 and number>predict: # как только шаг(50//my_step), на который мы меняем (увеличиваем или уменьшаем)\n",
    "            # predict становится меньше 1, начинаем подбирать искомое число просто увеличивая или уменьшая его на единицу\n",
    "            predict+=1\n",
    "        elif my_step>=51 and number<predict:\n",
    "            predict-=1\n",
    "        else:\n",
    "            if number > predict: \n",
    "                predict = predict + 50//my_step # пока шаг(50//my_step), на который мы меняем (увеличиваем или уменьшаем)\n",
    "            # predict больше 1, ополовиниваем диапазон, внутри которого находится искомое число\n",
    "            elif number < predict:\n",
    "                predict = predict - 50//my_step \n",
    "        my_step=my_step*2 # удваиваю делитель\n",
    "    return count # выход из цикла, если угадали\n",
    "# Проверяем\n",
    "score_game(random_predict)"
   ]
  },
  {
   "cell_type": "code",
   "execution_count": null,
   "metadata": {},
   "outputs": [],
   "source": []
  }
 ],
 "metadata": {
  "kernelspec": {
   "display_name": "Python 3.9.10 64-bit",
   "language": "python",
   "name": "python3"
  },
  "language_info": {
   "codemirror_mode": {
    "name": "ipython",
    "version": 3
   },
   "file_extension": ".py",
   "mimetype": "text/x-python",
   "name": "python",
   "nbconvert_exporter": "python",
   "pygments_lexer": "ipython3",
   "version": "3.9.10"
  },
  "vscode": {
   "interpreter": {
    "hash": "5c444dd78ad93c6b5790898f1b6bad1f3fd4f3cb8452cdb8b66b201804b1fb38"
   }
  }
 },
 "nbformat": 4,
 "nbformat_minor": 4
}
